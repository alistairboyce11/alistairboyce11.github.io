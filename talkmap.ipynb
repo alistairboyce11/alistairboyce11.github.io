{
 "cells": [
  {
   "cell_type": "markdown",
   "metadata": {},
   "source": [
    "# Leaflet cluster map of talk locations\n",
    "\n",
    "Run this from the _talks/ directory, which contains .md files of all your talks. This scrapes the location YAML field from each .md file, geolocates it with geopy/Nominatim, and uses the getorg library to output data, HTML, and Javascript for a standalone cluster map."
   ]
  },
  {
   "cell_type": "code",
   "execution_count": 1,
   "metadata": {
    "collapsed": false
   },
   "outputs": [
    {
     "name": "stdout",
     "output_type": "stream",
     "text": [
      "Requirement already satisfied: getorg in /Users/alistair/anaconda3/envs/env3.12/lib/python3.12/site-packages (0.3.1)\n",
      "Requirement already satisfied: geopy in /Users/alistair/anaconda3/envs/env3.12/lib/python3.12/site-packages (from getorg) (2.4.1)\n",
      "Requirement already satisfied: pygithub in /Users/alistair/anaconda3/envs/env3.12/lib/python3.12/site-packages (from getorg) (2.3.0)\n",
      "Requirement already satisfied: retrying in /Users/alistair/anaconda3/envs/env3.12/lib/python3.12/site-packages (from getorg) (1.3.4)\n",
      "Requirement already satisfied: geographiclib<3,>=1.52 in /Users/alistair/anaconda3/envs/env3.12/lib/python3.12/site-packages (from geopy->getorg) (2.0)\n",
      "Requirement already satisfied: pynacl>=1.4.0 in /Users/alistair/anaconda3/envs/env3.12/lib/python3.12/site-packages (from pygithub->getorg) (1.5.0)\n",
      "Requirement already satisfied: requests>=2.14.0 in /Users/alistair/anaconda3/envs/env3.12/lib/python3.12/site-packages (from pygithub->getorg) (2.31.0)\n",
      "Requirement already satisfied: pyjwt>=2.4.0 in /Users/alistair/anaconda3/envs/env3.12/lib/python3.12/site-packages (from pyjwt[crypto]>=2.4.0->pygithub->getorg) (2.9.0)\n",
      "Requirement already satisfied: typing-extensions>=4.0.0 in /Users/alistair/anaconda3/envs/env3.12/lib/python3.12/site-packages (from pygithub->getorg) (4.9.0)\n",
      "Requirement already satisfied: urllib3>=1.26.0 in /Users/alistair/anaconda3/envs/env3.12/lib/python3.12/site-packages (from pygithub->getorg) (2.1.0)\n",
      "Requirement already satisfied: Deprecated in /Users/alistair/anaconda3/envs/env3.12/lib/python3.12/site-packages (from pygithub->getorg) (1.2.14)\n",
      "Requirement already satisfied: six>=1.7.0 in /Users/alistair/anaconda3/envs/env3.12/lib/python3.12/site-packages (from retrying->getorg) (1.16.0)\n",
      "Requirement already satisfied: cryptography>=3.4.0 in /Users/alistair/anaconda3/envs/env3.12/lib/python3.12/site-packages (from pyjwt[crypto]>=2.4.0->pygithub->getorg) (43.0.0)\n",
      "Requirement already satisfied: cffi>=1.4.1 in /Users/alistair/anaconda3/envs/env3.12/lib/python3.12/site-packages (from pynacl>=1.4.0->pygithub->getorg) (1.17.0)\n",
      "Requirement already satisfied: charset-normalizer<4,>=2 in /Users/alistair/anaconda3/envs/env3.12/lib/python3.12/site-packages (from requests>=2.14.0->pygithub->getorg) (3.3.2)\n",
      "Requirement already satisfied: idna<4,>=2.5 in /Users/alistair/anaconda3/envs/env3.12/lib/python3.12/site-packages (from requests>=2.14.0->pygithub->getorg) (3.6)\n",
      "Requirement already satisfied: certifi>=2017.4.17 in /Users/alistair/anaconda3/envs/env3.12/lib/python3.12/site-packages (from requests>=2.14.0->pygithub->getorg) (2023.11.17)\n",
      "Requirement already satisfied: wrapt<2,>=1.10 in /Users/alistair/anaconda3/envs/env3.12/lib/python3.12/site-packages (from Deprecated->pygithub->getorg) (1.16.0)\n",
      "Requirement already satisfied: pycparser in /Users/alistair/anaconda3/envs/env3.12/lib/python3.12/site-packages (from cffi>=1.4.1->pynacl>=1.4.0->pygithub->getorg) (2.22)\n",
      "Iywidgets and ipyleaflet support disabled. You must be in a Jupyter notebook to use this feature.\n",
      "Error raised:\n",
      "No module named 'ipywidgets'\n",
      "Check that you have enabled ipyleaflet in Jupyter with:\n",
      "    jupyter nbextension enable --py ipyleaflet\n"
     ]
    }
   ],
   "source": [
    "!pip install getorg --upgrade\n",
    "import glob\n",
    "import getorg\n",
    "from geopy import Nominatim"
   ]
  },
  {
   "cell_type": "code",
   "execution_count": 26,
   "metadata": {
    "collapsed": false
   },
   "outputs": [
    {
     "name": "stdout",
     "output_type": "stream",
     "text": [
      "/Users/alistair/Google_Drive/GITHUB_AB/website\n"
     ]
    }
   ],
   "source": [
    "import os\n",
    "print(os.getcwd())\n",
    "g = glob.glob(\"_talks/*.md\")"
   ]
  },
  {
   "cell_type": "code",
   "execution_count": 27,
   "metadata": {
    "collapsed": true
   },
   "outputs": [],
   "source": [
    "geocoder = Nominatim(user_agent=\"my-website\")\n",
    "location_dict = {}\n",
    "location = \"\"\n",
    "permalink = \"\"\n",
    "title = \"map1\""
   ]
  },
  {
   "cell_type": "code",
   "execution_count": 28,
   "metadata": {
    "collapsed": false
   },
   "outputs": [
    {
     "name": "stdout",
     "output_type": "stream",
     "text": [
      "London, UK\n",
      "London, UK \n",
      " London, Greater London, England, United Kingdom\n",
      "San Francisco, US\n",
      "San Francisco, US \n",
      " San Francisco, California, United States\n",
      "Chicago USA\n",
      "Chicago USA \n",
      " Chicago, Cook County, Illinois, United States\n",
      "Montreal, Canada\n",
      "Montreal, Canada \n",
      " Montréal, Agglomération de Montréal, Montréal (région administrative), Québec, Canada\n",
      "Southampton, UK\n",
      "Southampton, UK \n",
      " Southampton, England, United Kingdom\n",
      "Virtual\n",
      "Virtual \n",
      " Virtual, Rua Coronel Oliveira, Centro, Andradas, Região Geográfica Imediata de Poços de Caldas, Região Geográfica Intermediária de Pouso Alegre, Minas Gerais, Região Sudeste, 37795-000, Brasil\n",
      "Vienna, Austria\n",
      "Vienna, Austria \n",
      " Wien, Österreich\n",
      "New Orleans, US\n",
      "New Orleans, US \n",
      " New Orleans, Orleans Parish, Louisiana, United States\n",
      "Virtual\n",
      "Virtual \n",
      " Virtual, Rua Coronel Oliveira, Centro, Andradas, Região Geográfica Imediata de Poços de Caldas, Região Geográfica Intermediária de Pouso Alegre, Minas Gerais, Região Sudeste, 37795-000, Brasil\n",
      "Aberdeen, Scotland\n",
      "Aberdeen, Scotland \n",
      " Aberdeen City, Alba / Scotland, United Kingdom\n",
      "Washington, D.C., US\n",
      "Washington, D.C., US \n",
      " Washington, District of Columbia, United States\n",
      "Toronto Canada\n",
      "Toronto Canada \n",
      " Toronto, Golden Horseshoe, Ontario, Canada\n",
      "San Francisco, US\n",
      "San Francisco, US \n",
      " San Francisco, California, United States\n",
      "London, UK\n",
      "London, UK \n",
      " London, Greater London, England, United Kingdom\n",
      "Montreal, Canada\n",
      "Montreal, Canada \n",
      " Montréal, Agglomération de Montréal, Montréal (région administrative), Québec, Canada\n",
      "London, UK\n",
      "London, UK \n",
      " London, Greater London, England, United Kingdom\n",
      "San Francisco, US\n",
      "San Francisco, US \n",
      " San Francisco, California, United States\n",
      "Oxford, UK\n",
      "Oxford, UK \n",
      " Oxford, Oxfordshire, England, United Kingdom\n",
      "New Orleans, US\n",
      "New Orleans, US \n",
      " New Orleans, Orleans Parish, Louisiana, United States\n",
      "Virtual\n",
      "Virtual \n",
      " Virtual, Rua Coronel Oliveira, Centro, Andradas, Região Geográfica Imediata de Poços de Caldas, Região Geográfica Intermediária de Pouso Alegre, Minas Gerais, Região Sudeste, 37795-000, Brasil\n",
      "Virtual\n",
      "Virtual \n",
      " Virtual, Rua Coronel Oliveira, Centro, Andradas, Região Geográfica Imediata de Poços de Caldas, Região Geográfica Intermediária de Pouso Alegre, Minas Gerais, Região Sudeste, 37795-000, Brasil\n",
      "Virtual\n",
      "Virtual \n",
      " Virtual, Rua Coronel Oliveira, Centro, Andradas, Região Geográfica Imediata de Poços de Caldas, Região Geográfica Intermediária de Pouso Alegre, Minas Gerais, Região Sudeste, 37795-000, Brasil\n",
      "London, UK\n",
      "London, UK \n",
      " London, Greater London, England, United Kingdom\n",
      "Cambridge, UK\n",
      "Cambridge, UK \n",
      " Cambridge, Cambridgeshire, Cambridgeshire and Peterborough, England, United Kingdom\n",
      "Virtual\n",
      "Virtual \n",
      " Virtual, Rua Coronel Oliveira, Centro, Andradas, Região Geográfica Imediata de Poços de Caldas, Região Geográfica Intermediária de Pouso Alegre, Minas Gerais, Região Sudeste, 37795-000, Brasil\n"
     ]
    }
   ],
   "source": [
    "\n",
    "for file in g:\n",
    "    with open(file, 'r') as f:\n",
    "        lines = f.read()\n",
    "        if lines.find('location: \"') > 1:\n",
    "            loc_start = lines.find('location: \"') + 11\n",
    "            lines_trim = lines[loc_start:]\n",
    "            loc_end = lines_trim.find('\"')\n",
    "            location = lines_trim[:loc_end]\n",
    "            print(location)             \n",
    "           \n",
    "        location_dict[location] = geocoder.geocode(location)\n",
    "        print(location, \"\\n\", location_dict[location])\n"
   ]
  },
  {
   "cell_type": "code",
   "execution_count": 29,
   "metadata": {
    "collapsed": false
   },
   "outputs": [
    {
     "data": {
      "text/plain": [
       "'Written map to ../talkmap/'"
      ]
     },
     "execution_count": 29,
     "metadata": {},
     "output_type": "execute_result"
    }
   ],
   "source": [
    "m = getorg.orgmap.create_map_obj()\n",
    "getorg.orgmap.output_html_cluster_map(location_dict, folder_name=\"talkmap\", hashed_usernames=False)"
   ]
  },
  {
   "cell_type": "code",
   "execution_count": null,
   "metadata": {},
   "outputs": [],
   "source": []
  },
  {
   "cell_type": "code",
   "execution_count": null,
   "metadata": {},
   "outputs": [],
   "source": []
  }
 ],
 "metadata": {
  "anaconda-cloud": {},
  "kernelspec": {
   "display_name": "env3.12",
   "language": "python",
   "name": "python3"
  },
  "language_info": {
   "codemirror_mode": {
    "name": "ipython",
    "version": 3
   },
   "file_extension": ".py",
   "mimetype": "text/x-python",
   "name": "python",
   "nbconvert_exporter": "python",
   "pygments_lexer": "ipython3",
   "version": "3.12.0"
  }
 },
 "nbformat": 4,
 "nbformat_minor": 0
}
